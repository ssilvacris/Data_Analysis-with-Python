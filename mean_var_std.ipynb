{
 "cells": [
  {
   "cell_type": "markdown",
   "metadata": {},
   "source": [
    "### Create a function named `calculate()` in `mean_var_std.py` that uses Numpy to output the mean, variance, standard deviation, max, min, and sum of the rows, columns, and elements in a 3 x 3 matrix. "
   ]
  },
  {
   "cell_type": "code",
   "execution_count": 1,
   "metadata": {},
   "outputs": [],
   "source": [
    "import numpy as np\n"
   ]
  },
  {
   "cell_type": "code",
   "execution_count": null,
   "metadata": {},
   "outputs": [],
   "source": []
  },
  {
   "cell_type": "code",
   "execution_count": 2,
   "metadata": {},
   "outputs": [],
   "source": [
    "\n",
    "def calculate(list_nine):\n",
    "    try:\n",
    "        \n",
    "        a_array = np.asarray(list_nine) \n",
    "        matrix_3 = a_array.reshape(3,3)\n",
    "        d_matrix = {\n",
    "      'mean': [np.mean(matrix_3, axis=0).tolist(), np.mean(matrix_3, axis=1).tolist(), np.mean(matrix_3.flatten()).tolist()],\n",
    "      'variance': [np.var(matrix_3, axis=0).tolist(), np.var(matrix_3, axis=1).tolist(), np.var(matrix_3.flatten()).tolist()],\n",
    "      'standard deviation': [np.std(matrix_3, axis=0).tolist(), np.std(matrix_3, axis=1).tolist(), np.std(matrix_3.flatten()).tolist()],\n",
    "      'max': [np.amax(matrix_3, axis=0).tolist(), np.amax(matrix_3, axis=1).tolist(), np.amax(matrix_3.flatten()).tolist()],\n",
    "      'min': [np.amin(matrix_3, axis=0).tolist(), np.amin(matrix_3, axis=1).tolist(), np.amin(matrix_3.flatten()).tolist()],\n",
    "      'sum': [np.sum(matrix_3, axis=0).tolist(), np.sum(matrix_3, axis=1).tolist(), np.sum(matrix_3.flatten()).tolist()]\n",
    "    }\n",
    "        if len(list_nine)==9:\n",
    "            return d_matrix\n",
    "    \n",
    "    except ValueError:\n",
    "        raise ValueError('List must contain nine numbers.')\n",
    " \n"
   ]
  },
  {
   "cell_type": "code",
   "execution_count": 5,
   "metadata": {},
   "outputs": [
    {
     "data": {
      "text/plain": [
       "{'mean': [[3.0, 4.0, 5.0], [1.0, 4.0, 7.0], 4.0],\n",
       " 'variance': [[6.0, 6.0, 6.0],\n",
       "  [0.6666666666666666, 0.6666666666666666, 0.6666666666666666],\n",
       "  6.666666666666667],\n",
       " 'standard deviation': [[2.449489742783178,\n",
       "   2.449489742783178,\n",
       "   2.449489742783178],\n",
       "  [0.816496580927726, 0.816496580927726, 0.816496580927726],\n",
       "  2.581988897471611],\n",
       " 'max': [[6, 7, 8], [2, 5, 8], 8],\n",
       " 'min': [[0, 1, 2], [0, 3, 6], 0],\n",
       " 'sum': [[9, 12, 15], [3, 12, 21], 36]}"
      ]
     },
     "execution_count": 5,
     "metadata": {},
     "output_type": "execute_result"
    }
   ],
   "source": [
    "teste2 = np.arange(9)\n",
    "calculate(teste2)"
   ]
  },
  {
   "cell_type": "code",
   "execution_count": null,
   "metadata": {},
   "outputs": [],
   "source": []
  }
 ],
 "metadata": {
  "kernelspec": {
   "display_name": "Python 3",
   "language": "python",
   "name": "python3"
  },
  "language_info": {
   "codemirror_mode": {
    "name": "ipython",
    "version": 3
   },
   "file_extension": ".py",
   "mimetype": "text/x-python",
   "name": "python",
   "nbconvert_exporter": "python",
   "pygments_lexer": "ipython3",
   "version": "3.8.5"
  }
 },
 "nbformat": 4,
 "nbformat_minor": 4
}
